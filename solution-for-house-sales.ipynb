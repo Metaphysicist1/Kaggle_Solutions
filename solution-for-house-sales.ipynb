{
 "cells": [
  {
   "cell_type": "code",
   "execution_count": 1,
   "id": "4dead78e",
   "metadata": {
    "execution": {
     "iopub.execute_input": "2025-02-01T14:50:56.913643Z",
     "iopub.status.busy": "2025-02-01T14:50:56.913279Z",
     "iopub.status.idle": "2025-02-01T14:51:00.212588Z",
     "shell.execute_reply": "2025-02-01T14:51:00.211605Z"
    },
    "papermill": {
     "duration": 3.310771,
     "end_time": "2025-02-01T14:51:00.214480",
     "exception": false,
     "start_time": "2025-02-01T14:50:56.903709",
     "status": "completed"
    },
    "tags": []
   },
   "outputs": [],
   "source": [
    "import pandas as pd\n",
    "import numpy as np\n",
    "import matplotlib.pyplot as plt\n",
    "import seaborn as sns\n",
    "from sklearn.model_selection import train_test_split\n",
    "from sklearn.preprocessing import StandardScaler\n",
    "from sklearn.cluster import KMeans\n",
    "from sklearn.metrics import mean_squared_error\n",
    "import os\n",
    "\n"
   ]
  },
  {
   "cell_type": "markdown",
   "id": "d6404c27",
   "metadata": {
    "papermill": {
     "duration": 0.006285,
     "end_time": "2025-02-01T14:51:00.227987",
     "exception": false,
     "start_time": "2025-02-01T14:51:00.221702",
     "status": "completed"
    },
    "tags": []
   },
   "source": [
    "### Data Exploration"
   ]
  },
  {
   "cell_type": "code",
   "execution_count": 2,
   "id": "d6373382",
   "metadata": {
    "execution": {
     "iopub.execute_input": "2025-02-01T14:51:00.242450Z",
     "iopub.status.busy": "2025-02-01T14:51:00.241911Z",
     "iopub.status.idle": "2025-02-01T14:51:00.367840Z",
     "shell.execute_reply": "2025-02-01T14:51:00.366418Z"
    },
    "papermill": {
     "duration": 0.13551,
     "end_time": "2025-02-01T14:51:00.370041",
     "exception": false,
     "start_time": "2025-02-01T14:51:00.234531",
     "status": "completed"
    },
    "tags": []
   },
   "outputs": [],
   "source": [
    "!mkdir images\n",
    "CWD = os.getcwd()\n",
    "IMAGES_FILEPATH = CWD + '/images/'"
   ]
  },
  {
   "cell_type": "code",
   "execution_count": 3,
   "id": "7fe93668",
   "metadata": {
    "execution": {
     "iopub.execute_input": "2025-02-01T14:51:00.385084Z",
     "iopub.status.busy": "2025-02-01T14:51:00.384692Z",
     "iopub.status.idle": "2025-02-01T14:51:00.495133Z",
     "shell.execute_reply": "2025-02-01T14:51:00.493993Z"
    },
    "papermill": {
     "duration": 0.119963,
     "end_time": "2025-02-01T14:51:00.496926",
     "exception": false,
     "start_time": "2025-02-01T14:51:00.376963",
     "status": "completed"
    },
    "tags": []
   },
   "outputs": [],
   "source": [
    "df = pd.read_csv('/kaggle/input/housesalesprediction/kc_house_data.csv')"
   ]
  },
  {
   "cell_type": "code",
   "execution_count": 4,
   "id": "d6927dd8",
   "metadata": {
    "execution": {
     "iopub.execute_input": "2025-02-01T14:51:00.511715Z",
     "iopub.status.busy": "2025-02-01T14:51:00.511382Z",
     "iopub.status.idle": "2025-02-01T14:51:00.518136Z",
     "shell.execute_reply": "2025-02-01T14:51:00.517172Z"
    },
    "papermill": {
     "duration": 0.015914,
     "end_time": "2025-02-01T14:51:00.519667",
     "exception": false,
     "start_time": "2025-02-01T14:51:00.503753",
     "status": "completed"
    },
    "tags": []
   },
   "outputs": [
    {
     "data": {
      "text/plain": [
       "'/kaggle/working/images/'"
      ]
     },
     "execution_count": 4,
     "metadata": {},
     "output_type": "execute_result"
    }
   ],
   "source": [
    "IMAGES_FILEPATH"
   ]
  },
  {
   "cell_type": "code",
   "execution_count": 5,
   "id": "9292944c",
   "metadata": {
    "execution": {
     "iopub.execute_input": "2025-02-01T14:51:00.534393Z",
     "iopub.status.busy": "2025-02-01T14:51:00.534011Z",
     "iopub.status.idle": "2025-02-01T14:51:00.541100Z",
     "shell.execute_reply": "2025-02-01T14:51:00.540142Z"
    },
    "papermill": {
     "duration": 0.01599,
     "end_time": "2025-02-01T14:51:00.542573",
     "exception": false,
     "start_time": "2025-02-01T14:51:00.526583",
     "status": "completed"
    },
    "tags": []
   },
   "outputs": [
    {
     "data": {
      "text/plain": [
       "Index(['id', 'date', 'price', 'bedrooms', 'bathrooms', 'sqft_living',\n",
       "       'sqft_lot', 'floors', 'waterfront', 'view', 'condition', 'grade',\n",
       "       'sqft_above', 'sqft_basement', 'yr_built', 'yr_renovated', 'zipcode',\n",
       "       'lat', 'long', 'sqft_living15', 'sqft_lot15'],\n",
       "      dtype='object')"
      ]
     },
     "execution_count": 5,
     "metadata": {},
     "output_type": "execute_result"
    }
   ],
   "source": [
    "df.columns"
   ]
  },
  {
   "cell_type": "code",
   "execution_count": 6,
   "id": "9079005e",
   "metadata": {
    "execution": {
     "iopub.execute_input": "2025-02-01T14:51:00.558013Z",
     "iopub.status.busy": "2025-02-01T14:51:00.557667Z",
     "iopub.status.idle": "2025-02-01T14:51:00.593216Z",
     "shell.execute_reply": "2025-02-01T14:51:00.591780Z"
    },
    "papermill": {
     "duration": 0.045162,
     "end_time": "2025-02-01T14:51:00.594940",
     "exception": false,
     "start_time": "2025-02-01T14:51:00.549778",
     "status": "completed"
    },
    "tags": []
   },
   "outputs": [
    {
     "name": "stdout",
     "output_type": "stream",
     "text": [
      "<class 'pandas.core.frame.DataFrame'>\n",
      "RangeIndex: 21613 entries, 0 to 21612\n",
      "Data columns (total 21 columns):\n",
      " #   Column         Non-Null Count  Dtype  \n",
      "---  ------         --------------  -----  \n",
      " 0   id             21613 non-null  int64  \n",
      " 1   date           21613 non-null  object \n",
      " 2   price          21613 non-null  float64\n",
      " 3   bedrooms       21613 non-null  int64  \n",
      " 4   bathrooms      21613 non-null  float64\n",
      " 5   sqft_living    21613 non-null  int64  \n",
      " 6   sqft_lot       21613 non-null  int64  \n",
      " 7   floors         21613 non-null  float64\n",
      " 8   waterfront     21613 non-null  int64  \n",
      " 9   view           21613 non-null  int64  \n",
      " 10  condition      21613 non-null  int64  \n",
      " 11  grade          21613 non-null  int64  \n",
      " 12  sqft_above     21613 non-null  int64  \n",
      " 13  sqft_basement  21613 non-null  int64  \n",
      " 14  yr_built       21613 non-null  int64  \n",
      " 15  yr_renovated   21613 non-null  int64  \n",
      " 16  zipcode        21613 non-null  int64  \n",
      " 17  lat            21613 non-null  float64\n",
      " 18  long           21613 non-null  float64\n",
      " 19  sqft_living15  21613 non-null  int64  \n",
      " 20  sqft_lot15     21613 non-null  int64  \n",
      "dtypes: float64(5), int64(15), object(1)\n",
      "memory usage: 3.5+ MB\n"
     ]
    }
   ],
   "source": [
    "df.info()"
   ]
  },
  {
   "cell_type": "code",
   "execution_count": 7,
   "id": "d63122e2",
   "metadata": {
    "execution": {
     "iopub.execute_input": "2025-02-01T14:51:00.610376Z",
     "iopub.status.busy": "2025-02-01T14:51:00.609991Z",
     "iopub.status.idle": "2025-02-01T14:51:00.686224Z",
     "shell.execute_reply": "2025-02-01T14:51:00.685168Z"
    },
    "papermill": {
     "duration": 0.08567,
     "end_time": "2025-02-01T14:51:00.687870",
     "exception": false,
     "start_time": "2025-02-01T14:51:00.602200",
     "status": "completed"
    },
    "tags": []
   },
   "outputs": [
    {
     "data": {
      "text/html": [
       "<div>\n",
       "<style scoped>\n",
       "    .dataframe tbody tr th:only-of-type {\n",
       "        vertical-align: middle;\n",
       "    }\n",
       "\n",
       "    .dataframe tbody tr th {\n",
       "        vertical-align: top;\n",
       "    }\n",
       "\n",
       "    .dataframe thead th {\n",
       "        text-align: right;\n",
       "    }\n",
       "</style>\n",
       "<table border=\"1\" class=\"dataframe\">\n",
       "  <thead>\n",
       "    <tr style=\"text-align: right;\">\n",
       "      <th></th>\n",
       "      <th>id</th>\n",
       "      <th>price</th>\n",
       "      <th>bedrooms</th>\n",
       "      <th>bathrooms</th>\n",
       "      <th>sqft_living</th>\n",
       "      <th>sqft_lot</th>\n",
       "      <th>floors</th>\n",
       "      <th>waterfront</th>\n",
       "      <th>view</th>\n",
       "      <th>condition</th>\n",
       "      <th>grade</th>\n",
       "      <th>sqft_above</th>\n",
       "      <th>sqft_basement</th>\n",
       "      <th>yr_built</th>\n",
       "      <th>yr_renovated</th>\n",
       "      <th>zipcode</th>\n",
       "      <th>lat</th>\n",
       "      <th>long</th>\n",
       "      <th>sqft_living15</th>\n",
       "      <th>sqft_lot15</th>\n",
       "    </tr>\n",
       "  </thead>\n",
       "  <tbody>\n",
       "    <tr>\n",
       "      <th>count</th>\n",
       "      <td>2.161300e+04</td>\n",
       "      <td>2.161300e+04</td>\n",
       "      <td>21613.000000</td>\n",
       "      <td>21613.000000</td>\n",
       "      <td>21613.000000</td>\n",
       "      <td>2.161300e+04</td>\n",
       "      <td>21613.000000</td>\n",
       "      <td>21613.000000</td>\n",
       "      <td>21613.000000</td>\n",
       "      <td>21613.000000</td>\n",
       "      <td>21613.000000</td>\n",
       "      <td>21613.000000</td>\n",
       "      <td>21613.000000</td>\n",
       "      <td>21613.000000</td>\n",
       "      <td>21613.000000</td>\n",
       "      <td>21613.000000</td>\n",
       "      <td>21613.000000</td>\n",
       "      <td>21613.000000</td>\n",
       "      <td>21613.000000</td>\n",
       "      <td>21613.000000</td>\n",
       "    </tr>\n",
       "    <tr>\n",
       "      <th>mean</th>\n",
       "      <td>4.580302e+09</td>\n",
       "      <td>5.400881e+05</td>\n",
       "      <td>3.370842</td>\n",
       "      <td>2.114757</td>\n",
       "      <td>2079.899736</td>\n",
       "      <td>1.510697e+04</td>\n",
       "      <td>1.494309</td>\n",
       "      <td>0.007542</td>\n",
       "      <td>0.234303</td>\n",
       "      <td>3.409430</td>\n",
       "      <td>7.656873</td>\n",
       "      <td>1788.390691</td>\n",
       "      <td>291.509045</td>\n",
       "      <td>1971.005136</td>\n",
       "      <td>84.402258</td>\n",
       "      <td>98077.939805</td>\n",
       "      <td>47.560053</td>\n",
       "      <td>-122.213896</td>\n",
       "      <td>1986.552492</td>\n",
       "      <td>12768.455652</td>\n",
       "    </tr>\n",
       "    <tr>\n",
       "      <th>std</th>\n",
       "      <td>2.876566e+09</td>\n",
       "      <td>3.671272e+05</td>\n",
       "      <td>0.930062</td>\n",
       "      <td>0.770163</td>\n",
       "      <td>918.440897</td>\n",
       "      <td>4.142051e+04</td>\n",
       "      <td>0.539989</td>\n",
       "      <td>0.086517</td>\n",
       "      <td>0.766318</td>\n",
       "      <td>0.650743</td>\n",
       "      <td>1.175459</td>\n",
       "      <td>828.090978</td>\n",
       "      <td>442.575043</td>\n",
       "      <td>29.373411</td>\n",
       "      <td>401.679240</td>\n",
       "      <td>53.505026</td>\n",
       "      <td>0.138564</td>\n",
       "      <td>0.140828</td>\n",
       "      <td>685.391304</td>\n",
       "      <td>27304.179631</td>\n",
       "    </tr>\n",
       "    <tr>\n",
       "      <th>min</th>\n",
       "      <td>1.000102e+06</td>\n",
       "      <td>7.500000e+04</td>\n",
       "      <td>0.000000</td>\n",
       "      <td>0.000000</td>\n",
       "      <td>290.000000</td>\n",
       "      <td>5.200000e+02</td>\n",
       "      <td>1.000000</td>\n",
       "      <td>0.000000</td>\n",
       "      <td>0.000000</td>\n",
       "      <td>1.000000</td>\n",
       "      <td>1.000000</td>\n",
       "      <td>290.000000</td>\n",
       "      <td>0.000000</td>\n",
       "      <td>1900.000000</td>\n",
       "      <td>0.000000</td>\n",
       "      <td>98001.000000</td>\n",
       "      <td>47.155900</td>\n",
       "      <td>-122.519000</td>\n",
       "      <td>399.000000</td>\n",
       "      <td>651.000000</td>\n",
       "    </tr>\n",
       "    <tr>\n",
       "      <th>25%</th>\n",
       "      <td>2.123049e+09</td>\n",
       "      <td>3.219500e+05</td>\n",
       "      <td>3.000000</td>\n",
       "      <td>1.750000</td>\n",
       "      <td>1427.000000</td>\n",
       "      <td>5.040000e+03</td>\n",
       "      <td>1.000000</td>\n",
       "      <td>0.000000</td>\n",
       "      <td>0.000000</td>\n",
       "      <td>3.000000</td>\n",
       "      <td>7.000000</td>\n",
       "      <td>1190.000000</td>\n",
       "      <td>0.000000</td>\n",
       "      <td>1951.000000</td>\n",
       "      <td>0.000000</td>\n",
       "      <td>98033.000000</td>\n",
       "      <td>47.471000</td>\n",
       "      <td>-122.328000</td>\n",
       "      <td>1490.000000</td>\n",
       "      <td>5100.000000</td>\n",
       "    </tr>\n",
       "    <tr>\n",
       "      <th>50%</th>\n",
       "      <td>3.904930e+09</td>\n",
       "      <td>4.500000e+05</td>\n",
       "      <td>3.000000</td>\n",
       "      <td>2.250000</td>\n",
       "      <td>1910.000000</td>\n",
       "      <td>7.618000e+03</td>\n",
       "      <td>1.500000</td>\n",
       "      <td>0.000000</td>\n",
       "      <td>0.000000</td>\n",
       "      <td>3.000000</td>\n",
       "      <td>7.000000</td>\n",
       "      <td>1560.000000</td>\n",
       "      <td>0.000000</td>\n",
       "      <td>1975.000000</td>\n",
       "      <td>0.000000</td>\n",
       "      <td>98065.000000</td>\n",
       "      <td>47.571800</td>\n",
       "      <td>-122.230000</td>\n",
       "      <td>1840.000000</td>\n",
       "      <td>7620.000000</td>\n",
       "    </tr>\n",
       "    <tr>\n",
       "      <th>75%</th>\n",
       "      <td>7.308900e+09</td>\n",
       "      <td>6.450000e+05</td>\n",
       "      <td>4.000000</td>\n",
       "      <td>2.500000</td>\n",
       "      <td>2550.000000</td>\n",
       "      <td>1.068800e+04</td>\n",
       "      <td>2.000000</td>\n",
       "      <td>0.000000</td>\n",
       "      <td>0.000000</td>\n",
       "      <td>4.000000</td>\n",
       "      <td>8.000000</td>\n",
       "      <td>2210.000000</td>\n",
       "      <td>560.000000</td>\n",
       "      <td>1997.000000</td>\n",
       "      <td>0.000000</td>\n",
       "      <td>98118.000000</td>\n",
       "      <td>47.678000</td>\n",
       "      <td>-122.125000</td>\n",
       "      <td>2360.000000</td>\n",
       "      <td>10083.000000</td>\n",
       "    </tr>\n",
       "    <tr>\n",
       "      <th>max</th>\n",
       "      <td>9.900000e+09</td>\n",
       "      <td>7.700000e+06</td>\n",
       "      <td>33.000000</td>\n",
       "      <td>8.000000</td>\n",
       "      <td>13540.000000</td>\n",
       "      <td>1.651359e+06</td>\n",
       "      <td>3.500000</td>\n",
       "      <td>1.000000</td>\n",
       "      <td>4.000000</td>\n",
       "      <td>5.000000</td>\n",
       "      <td>13.000000</td>\n",
       "      <td>9410.000000</td>\n",
       "      <td>4820.000000</td>\n",
       "      <td>2015.000000</td>\n",
       "      <td>2015.000000</td>\n",
       "      <td>98199.000000</td>\n",
       "      <td>47.777600</td>\n",
       "      <td>-121.315000</td>\n",
       "      <td>6210.000000</td>\n",
       "      <td>871200.000000</td>\n",
       "    </tr>\n",
       "  </tbody>\n",
       "</table>\n",
       "</div>"
      ],
      "text/plain": [
       "                 id         price      bedrooms     bathrooms   sqft_living  \\\n",
       "count  2.161300e+04  2.161300e+04  21613.000000  21613.000000  21613.000000   \n",
       "mean   4.580302e+09  5.400881e+05      3.370842      2.114757   2079.899736   \n",
       "std    2.876566e+09  3.671272e+05      0.930062      0.770163    918.440897   \n",
       "min    1.000102e+06  7.500000e+04      0.000000      0.000000    290.000000   \n",
       "25%    2.123049e+09  3.219500e+05      3.000000      1.750000   1427.000000   \n",
       "50%    3.904930e+09  4.500000e+05      3.000000      2.250000   1910.000000   \n",
       "75%    7.308900e+09  6.450000e+05      4.000000      2.500000   2550.000000   \n",
       "max    9.900000e+09  7.700000e+06     33.000000      8.000000  13540.000000   \n",
       "\n",
       "           sqft_lot        floors    waterfront          view     condition  \\\n",
       "count  2.161300e+04  21613.000000  21613.000000  21613.000000  21613.000000   \n",
       "mean   1.510697e+04      1.494309      0.007542      0.234303      3.409430   \n",
       "std    4.142051e+04      0.539989      0.086517      0.766318      0.650743   \n",
       "min    5.200000e+02      1.000000      0.000000      0.000000      1.000000   \n",
       "25%    5.040000e+03      1.000000      0.000000      0.000000      3.000000   \n",
       "50%    7.618000e+03      1.500000      0.000000      0.000000      3.000000   \n",
       "75%    1.068800e+04      2.000000      0.000000      0.000000      4.000000   \n",
       "max    1.651359e+06      3.500000      1.000000      4.000000      5.000000   \n",
       "\n",
       "              grade    sqft_above  sqft_basement      yr_built  yr_renovated  \\\n",
       "count  21613.000000  21613.000000   21613.000000  21613.000000  21613.000000   \n",
       "mean       7.656873   1788.390691     291.509045   1971.005136     84.402258   \n",
       "std        1.175459    828.090978     442.575043     29.373411    401.679240   \n",
       "min        1.000000    290.000000       0.000000   1900.000000      0.000000   \n",
       "25%        7.000000   1190.000000       0.000000   1951.000000      0.000000   \n",
       "50%        7.000000   1560.000000       0.000000   1975.000000      0.000000   \n",
       "75%        8.000000   2210.000000     560.000000   1997.000000      0.000000   \n",
       "max       13.000000   9410.000000    4820.000000   2015.000000   2015.000000   \n",
       "\n",
       "            zipcode           lat          long  sqft_living15     sqft_lot15  \n",
       "count  21613.000000  21613.000000  21613.000000   21613.000000   21613.000000  \n",
       "mean   98077.939805     47.560053   -122.213896    1986.552492   12768.455652  \n",
       "std       53.505026      0.138564      0.140828     685.391304   27304.179631  \n",
       "min    98001.000000     47.155900   -122.519000     399.000000     651.000000  \n",
       "25%    98033.000000     47.471000   -122.328000    1490.000000    5100.000000  \n",
       "50%    98065.000000     47.571800   -122.230000    1840.000000    7620.000000  \n",
       "75%    98118.000000     47.678000   -122.125000    2360.000000   10083.000000  \n",
       "max    98199.000000     47.777600   -121.315000    6210.000000  871200.000000  "
      ]
     },
     "execution_count": 7,
     "metadata": {},
     "output_type": "execute_result"
    }
   ],
   "source": [
    "df.describe()"
   ]
  },
  {
   "cell_type": "markdown",
   "id": "d228ca57",
   "metadata": {
    "papermill": {
     "duration": 0.006764,
     "end_time": "2025-02-01T14:51:00.702230",
     "exception": false,
     "start_time": "2025-02-01T14:51:00.695466",
     "status": "completed"
    },
    "tags": []
   },
   "source": [
    "### Data Preprocessing"
   ]
  },
  {
   "cell_type": "code",
   "execution_count": 8,
   "id": "fe4399a6",
   "metadata": {
    "execution": {
     "iopub.execute_input": "2025-02-01T14:51:00.718013Z",
     "iopub.status.busy": "2025-02-01T14:51:00.717648Z",
     "iopub.status.idle": "2025-02-01T14:51:02.682703Z",
     "shell.execute_reply": "2025-02-01T14:51:02.681656Z"
    },
    "papermill": {
     "duration": 1.975077,
     "end_time": "2025-02-01T14:51:02.684351",
     "exception": false,
     "start_time": "2025-02-01T14:51:00.709274",
     "status": "completed"
    },
    "tags": []
   },
   "outputs": [
    {
     "name": "stderr",
     "output_type": "stream",
     "text": [
      "/usr/local/lib/python3.10/dist-packages/sklearn/cluster/_kmeans.py:870: FutureWarning: The default value of `n_init` will change from 10 to 'auto' in 1.4. Set the value of `n_init` explicitly to suppress the warning\n",
      "  warnings.warn(\n"
     ]
    },
    {
     "data": {
      "image/png": "[encoded data removed]",
      "text/plain": [
       "<Figure size 640x480 with 1 Axes>"
      ]
     },
     "metadata": {},
     "output_type": "display_data"
    }
   ],
   "source": [
    "kmeans = KMeans(n_clusters=10)\n",
    "df['location_cluster'] = kmeans.fit_predict(df[['lat', 'long']])\n",
    "plt.scatter(df['long'], df['lat'], c=df['location_cluster'], cmap='viridis')\n",
    "plt.xlabel('Longitude')\n",
    "plt.ylabel('Latitude')\n",
    "plt.title('Zip Code Clustering')\n",
    "plt.savefig(f'{IMAGES_FILEPATH}/Zip_Code_Clustering.jpg')\n",
    "plt.show()"
   ]
  },
  {
   "cell_type": "code",
   "execution_count": 9,
   "id": "5be80b4c",
   "metadata": {
    "execution": {
     "iopub.execute_input": "2025-02-01T14:51:02.703200Z",
     "iopub.status.busy": "2025-02-01T14:51:02.702801Z",
     "iopub.status.idle": "2025-02-01T14:51:02.736862Z",
     "shell.execute_reply": "2025-02-01T14:51:02.735852Z"
    },
    "jupyter": {
     "source_hidden": true
    },
    "papermill": {
     "duration": 0.045247,
     "end_time": "2025-02-01T14:51:02.738617",
     "exception": false,
     "start_time": "2025-02-01T14:51:02.693370",
     "status": "completed"
    },
    "tags": []
   },
   "outputs": [],
   "source": [
    "df['date'] = pd.to_datetime(df['date'])\n",
    "df['age'] = 2025 -  df['yr_built']\n",
    "df['year'] = df['date'].dt.year\n",
    "df['month'] = df['date'].dt.month\n",
    "df[\"quartile\"] = df[\"date\"].dt.quarter\n",
    "df['day'] = df['date'].dt.day\n",
    "df['pct_living'] = df[\"sqft_living\"] / (df[\"sqft_living\"] + df[\"sqft_lot\"])\n",
    "df[\"total_rooms\"] = df[\"bathrooms\"] + df[\"bedrooms\"]\n",
    "df[\"price_per_sqft\"] = df[\"price\"] / df[\"sqft_living\"]\n"
   ]
  },
  {
   "cell_type": "code",
   "execution_count": 10,
   "id": "1a1674cb",
   "metadata": {
    "execution": {
     "iopub.execute_input": "2025-02-01T14:51:02.757081Z",
     "iopub.status.busy": "2025-02-01T14:51:02.756714Z",
     "iopub.status.idle": "2025-02-01T14:51:02.786239Z",
     "shell.execute_reply": "2025-02-01T14:51:02.785190Z"
    },
    "papermill": {
     "duration": 0.040896,
     "end_time": "2025-02-01T14:51:02.788202",
     "exception": false,
     "start_time": "2025-02-01T14:51:02.747306",
     "status": "completed"
    },
    "tags": []
   },
   "outputs": [],
   "source": [
    "df.drop_duplicates(inplace=True)"
   ]
  },
  {
   "cell_type": "code",
   "execution_count": 11,
   "id": "8680e6bb",
   "metadata": {
    "execution": {
     "iopub.execute_input": "2025-02-01T14:51:02.806919Z",
     "iopub.status.busy": "2025-02-01T14:51:02.806544Z",
     "iopub.status.idle": "2025-02-01T14:51:02.812081Z",
     "shell.execute_reply": "2025-02-01T14:51:02.811153Z"
    },
    "papermill": {
     "duration": 0.016681,
     "end_time": "2025-02-01T14:51:02.813643",
     "exception": false,
     "start_time": "2025-02-01T14:51:02.796962",
     "status": "completed"
    },
    "tags": []
   },
   "outputs": [
    {
     "data": {
      "text/plain": [
       "(21613, 30)"
      ]
     },
     "execution_count": 11,
     "metadata": {},
     "output_type": "execute_result"
    }
   ],
   "source": [
    "df.shape"
   ]
  },
  {
   "cell_type": "code",
   "execution_count": 12,
   "id": "22e25e1e",
   "metadata": {
    "execution": {
     "iopub.execute_input": "2025-02-01T14:51:02.832444Z",
     "iopub.status.busy": "2025-02-01T14:51:02.832086Z",
     "iopub.status.idle": "2025-02-01T14:51:02.843440Z",
     "shell.execute_reply": "2025-02-01T14:51:02.842424Z"
    },
    "jupyter": {
     "source_hidden": true
    },
    "papermill": {
     "duration": 0.022413,
     "end_time": "2025-02-01T14:51:02.844978",
     "exception": false,
     "start_time": "2025-02-01T14:51:02.822565",
     "status": "completed"
    },
    "tags": []
   },
   "outputs": [
    {
     "data": {
      "text/plain": [
       "id                  0\n",
       "date                0\n",
       "price               0\n",
       "bedrooms            0\n",
       "bathrooms           0\n",
       "sqft_living         0\n",
       "sqft_lot            0\n",
       "floors              0\n",
       "waterfront          0\n",
       "view                0\n",
       "condition           0\n",
       "grade               0\n",
       "sqft_above          0\n",
       "sqft_basement       0\n",
       "yr_built            0\n",
       "yr_renovated        0\n",
       "zipcode             0\n",
       "lat                 0\n",
       "long                0\n",
       "sqft_living15       0\n",
       "sqft_lot15          0\n",
       "location_cluster    0\n",
       "age                 0\n",
       "year                0\n",
       "month               0\n",
       "quartile            0\n",
       "day                 0\n",
       "pct_living          0\n",
       "total_rooms         0\n",
       "price_per_sqft      0\n",
       "dtype: int64"
      ]
     },
     "execution_count": 12,
     "metadata": {},
     "output_type": "execute_result"
    }
   ],
   "source": [
    "df.isnull().sum()"
   ]
  },
  {
   "cell_type": "code",
   "execution_count": 13,
   "id": "69b597f5",
   "metadata": {
    "execution": {
     "iopub.execute_input": "2025-02-01T14:51:02.863968Z",
     "iopub.status.busy": "2025-02-01T14:51:02.863575Z",
     "iopub.status.idle": "2025-02-01T14:51:02.869089Z",
     "shell.execute_reply": "2025-02-01T14:51:02.868163Z"
    },
    "papermill": {
     "duration": 0.01688,
     "end_time": "2025-02-01T14:51:02.870799",
     "exception": false,
     "start_time": "2025-02-01T14:51:02.853919",
     "status": "completed"
    },
    "tags": []
   },
   "outputs": [
    {
     "data": {
      "text/plain": [
       "(21613, 30)"
      ]
     },
     "execution_count": 13,
     "metadata": {},
     "output_type": "execute_result"
    }
   ],
   "source": [
    "df.shape"
   ]
  },
  {
   "cell_type": "code",
   "execution_count": 14,
   "id": "5d4d5b6a",
   "metadata": {
    "execution": {
     "iopub.execute_input": "2025-02-01T14:51:02.889809Z",
     "iopub.status.busy": "2025-02-01T14:51:02.889373Z",
     "iopub.status.idle": "2025-02-01T14:51:02.897681Z",
     "shell.execute_reply": "2025-02-01T14:51:02.896385Z"
    },
    "papermill": {
     "duration": 0.01961,
     "end_time": "2025-02-01T14:51:02.899399",
     "exception": false,
     "start_time": "2025-02-01T14:51:02.879789",
     "status": "completed"
    },
    "tags": []
   },
   "outputs": [
    {
     "name": "stdout",
     "output_type": "stream",
     "text": [
      "id                  0\n",
      "date                0\n",
      "price               0\n",
      "bedrooms            0\n",
      "bathrooms           0\n",
      "sqft_living         0\n",
      "sqft_lot            0\n",
      "floors              0\n",
      "waterfront          0\n",
      "view                0\n",
      "condition           0\n",
      "grade               0\n",
      "sqft_above          0\n",
      "sqft_basement       0\n",
      "yr_built            0\n",
      "yr_renovated        0\n",
      "zipcode             0\n",
      "lat                 0\n",
      "long                0\n",
      "sqft_living15       0\n",
      "sqft_lot15          0\n",
      "location_cluster    0\n",
      "age                 0\n",
      "year                0\n",
      "month               0\n",
      "quartile            0\n",
      "day                 0\n",
      "pct_living          0\n",
      "total_rooms         0\n",
      "price_per_sqft      0\n",
      "dtype: int64\n"
     ]
    }
   ],
   "source": [
    "print(df.isnull().sum())"
   ]
  },
  {
   "cell_type": "code",
   "execution_count": 15,
   "id": "effc620a",
   "metadata": {
    "execution": {
     "iopub.execute_input": "2025-02-01T14:51:02.918640Z",
     "iopub.status.busy": "2025-02-01T14:51:02.918273Z",
     "iopub.status.idle": "2025-02-01T14:51:02.937284Z",
     "shell.execute_reply": "2025-02-01T14:51:02.936135Z"
    },
    "papermill": {
     "duration": 0.030488,
     "end_time": "2025-02-01T14:51:02.938959",
     "exception": false,
     "start_time": "2025-02-01T14:51:02.908471",
     "status": "completed"
    },
    "tags": []
   },
   "outputs": [
    {
     "data": {
      "text/html": [
       "<div>\n",
       "<style scoped>\n",
       "    .dataframe tbody tr th:only-of-type {\n",
       "        vertical-align: middle;\n",
       "    }\n",
       "\n",
       "    .dataframe tbody tr th {\n",
       "        vertical-align: top;\n",
       "    }\n",
       "\n",
       "    .dataframe thead th {\n",
       "        text-align: right;\n",
       "    }\n",
       "</style>\n",
       "<table border=\"1\" class=\"dataframe\">\n",
       "  <thead>\n",
       "    <tr style=\"text-align: right;\">\n",
       "      <th></th>\n",
       "      <th>id</th>\n",
       "      <th>date</th>\n",
       "      <th>price</th>\n",
       "      <th>bedrooms</th>\n",
       "      <th>bathrooms</th>\n",
       "      <th>sqft_living</th>\n",
       "      <th>sqft_lot</th>\n",
       "      <th>floors</th>\n",
       "      <th>waterfront</th>\n",
       "      <th>view</th>\n",
       "      <th>...</th>\n",
       "      <th>sqft_lot15</th>\n",
       "      <th>location_cluster</th>\n",
       "      <th>age</th>\n",
       "      <th>year</th>\n",
       "      <th>month</th>\n",
       "      <th>quartile</th>\n",
       "      <th>day</th>\n",
       "      <th>pct_living</th>\n",
       "      <th>total_rooms</th>\n",
       "      <th>price_per_sqft</th>\n",
       "    </tr>\n",
       "  </thead>\n",
       "  <tbody>\n",
       "    <tr>\n",
       "      <th>0</th>\n",
       "      <td>7129300520</td>\n",
       "      <td>2014-10-13</td>\n",
       "      <td>221900.0</td>\n",
       "      <td>3</td>\n",
       "      <td>1.00</td>\n",
       "      <td>1180</td>\n",
       "      <td>5650</td>\n",
       "      <td>1.0</td>\n",
       "      <td>0</td>\n",
       "      <td>0</td>\n",
       "      <td>...</td>\n",
       "      <td>5650</td>\n",
       "      <td>2</td>\n",
       "      <td>70</td>\n",
       "      <td>2014</td>\n",
       "      <td>10</td>\n",
       "      <td>4</td>\n",
       "      <td>13</td>\n",
       "      <td>0.172767</td>\n",
       "      <td>4.00</td>\n",
       "      <td>188.050847</td>\n",
       "    </tr>\n",
       "    <tr>\n",
       "      <th>1</th>\n",
       "      <td>6414100192</td>\n",
       "      <td>2014-12-09</td>\n",
       "      <td>538000.0</td>\n",
       "      <td>3</td>\n",
       "      <td>2.25</td>\n",
       "      <td>2570</td>\n",
       "      <td>7242</td>\n",
       "      <td>2.0</td>\n",
       "      <td>0</td>\n",
       "      <td>0</td>\n",
       "      <td>...</td>\n",
       "      <td>7639</td>\n",
       "      <td>0</td>\n",
       "      <td>74</td>\n",
       "      <td>2014</td>\n",
       "      <td>12</td>\n",
       "      <td>4</td>\n",
       "      <td>9</td>\n",
       "      <td>0.261924</td>\n",
       "      <td>5.25</td>\n",
       "      <td>209.338521</td>\n",
       "    </tr>\n",
       "    <tr>\n",
       "      <th>2</th>\n",
       "      <td>5631500400</td>\n",
       "      <td>2015-02-25</td>\n",
       "      <td>180000.0</td>\n",
       "      <td>2</td>\n",
       "      <td>1.00</td>\n",
       "      <td>770</td>\n",
       "      <td>10000</td>\n",
       "      <td>1.0</td>\n",
       "      <td>0</td>\n",
       "      <td>0</td>\n",
       "      <td>...</td>\n",
       "      <td>8062</td>\n",
       "      <td>6</td>\n",
       "      <td>92</td>\n",
       "      <td>2015</td>\n",
       "      <td>2</td>\n",
       "      <td>1</td>\n",
       "      <td>25</td>\n",
       "      <td>0.071495</td>\n",
       "      <td>3.00</td>\n",
       "      <td>233.766234</td>\n",
       "    </tr>\n",
       "    <tr>\n",
       "      <th>3</th>\n",
       "      <td>2487200875</td>\n",
       "      <td>2014-12-09</td>\n",
       "      <td>604000.0</td>\n",
       "      <td>4</td>\n",
       "      <td>3.00</td>\n",
       "      <td>1960</td>\n",
       "      <td>5000</td>\n",
       "      <td>1.0</td>\n",
       "      <td>0</td>\n",
       "      <td>0</td>\n",
       "      <td>...</td>\n",
       "      <td>5000</td>\n",
       "      <td>7</td>\n",
       "      <td>60</td>\n",
       "      <td>2014</td>\n",
       "      <td>12</td>\n",
       "      <td>4</td>\n",
       "      <td>9</td>\n",
       "      <td>0.281609</td>\n",
       "      <td>7.00</td>\n",
       "      <td>308.163265</td>\n",
       "    </tr>\n",
       "    <tr>\n",
       "      <th>4</th>\n",
       "      <td>1954400510</td>\n",
       "      <td>2015-02-18</td>\n",
       "      <td>510000.0</td>\n",
       "      <td>3</td>\n",
       "      <td>2.00</td>\n",
       "      <td>1680</td>\n",
       "      <td>8080</td>\n",
       "      <td>1.0</td>\n",
       "      <td>0</td>\n",
       "      <td>0</td>\n",
       "      <td>...</td>\n",
       "      <td>7503</td>\n",
       "      <td>1</td>\n",
       "      <td>38</td>\n",
       "      <td>2015</td>\n",
       "      <td>2</td>\n",
       "      <td>1</td>\n",
       "      <td>18</td>\n",
       "      <td>0.172131</td>\n",
       "      <td>5.00</td>\n",
       "      <td>303.571429</td>\n",
       "    </tr>\n",
       "  </tbody>\n",
       "</table>\n",
       "<p>5 rows × 30 columns</p>\n",
       "</div>"
      ],
      "text/plain": [
       "           id       date     price  bedrooms  bathrooms  sqft_living  \\\n",
       "0  7129300520 2014-10-13  221900.0         3       1.00         1180   \n",
       "1  6414100192 2014-12-09  538000.0         3       2.25         2570   \n",
       "2  5631500400 2015-02-25  180000.0         2       1.00          770   \n",
       "3  2487200875 2014-12-09  604000.0         4       3.00         1960   \n",
       "4  1954400510 2015-02-18  510000.0         3       2.00         1680   \n",
       "\n",
       "   sqft_lot  floors  waterfront  view  ...  sqft_lot15  location_cluster  age  \\\n",
       "0      5650     1.0           0     0  ...        5650                 2   70   \n",
       "1      7242     2.0           0     0  ...        7639                 0   74   \n",
       "2     10000     1.0           0     0  ...        8062                 6   92   \n",
       "3      5000     1.0           0     0  ...        5000                 7   60   \n",
       "4      8080     1.0           0     0  ...        7503                 1   38   \n",
       "\n",
       "   year  month  quartile  day  pct_living  total_rooms  price_per_sqft  \n",
       "0  2014     10         4   13    0.172767         4.00      188.050847  \n",
       "1  2014     12         4    9    0.261924         5.25      209.338521  \n",
       "2  2015      2         1   25    0.071495         3.00      233.766234  \n",
       "3  2014     12         4    9    0.281609         7.00      308.163265  \n",
       "4  2015      2         1   18    0.172131         5.00      303.571429  \n",
       "\n",
       "[5 rows x 30 columns]"
      ]
     },
     "execution_count": 15,
     "metadata": {},
     "output_type": "execute_result"
    }
   ],
   "source": [
    "df.head()"
   ]
  },
  {
   "cell_type": "markdown",
   "id": "9b236cd9",
   "metadata": {
    "papermill": {
     "duration": 0.008931,
     "end_time": "2025-02-01T14:51:02.957305",
     "exception": false,
     "start_time": "2025-02-01T14:51:02.948374",
     "status": "completed"
    },
    "tags": []
   },
   "source": [
    "### Outliers Handling"
   ]
  },
  {
   "cell_type": "code",
   "execution_count": 16,
   "id": "f1288cb3",
   "metadata": {
    "execution": {
     "iopub.execute_input": "2025-02-01T14:51:02.977299Z",
     "iopub.status.busy": "2025-02-01T14:51:02.976927Z",
     "iopub.status.idle": "2025-02-01T14:51:02.982884Z",
     "shell.execute_reply": "2025-02-01T14:51:02.981888Z"
    },
    "papermill": {
     "duration": 0.017632,
     "end_time": "2025-02-01T14:51:02.984481",
     "exception": false,
     "start_time": "2025-02-01T14:51:02.966849",
     "status": "completed"
    },
    "tags": []
   },
   "outputs": [],
   "source": [
    "def compare_with_normal(data,title):\n",
    "    plt.figure(figsize=(8, 5))\n",
    "    mean = data.mean()\n",
    "    std = data.std()\n",
    "    normal_dist = np.random.normal(mean, std, len(data))\n",
    "    sns.kdeplot(data, label=\"Your Data\", color=\"blue\", linewidth=2)\n",
    "    sns.kdeplot(normal_dist, label=\"Normal Distribution\", color=\"red\", linestyle=\"dashed\", linewidth=2)\n",
    "\n",
    "    plt.title(f\"KDE Plot: {title} vs. Normal Distribution\")\n",
    "    plt.xlabel(\"Values\")\n",
    "    plt.ylabel(\"Density\")\n",
    "    plt.legend()\n",
    "    plt.grid()\n",
    "    plt.savefig((IMAGES_FILEPATH + title + \"_kde.jpg\"))\n",
    "    plt.show()  "
   ]
  },
  {
   "cell_type": "code",
   "execution_count": 17,
   "id": "40d0ff92",
   "metadata": {
    "execution": {
     "iopub.execute_input": "2025-02-01T14:51:03.004836Z",
     "iopub.status.busy": "2025-02-01T14:51:03.004336Z",
     "iopub.status.idle": "2025-02-01T14:51:03.704247Z",
     "shell.execute_reply": "2025-02-01T14:51:03.703172Z"
    },
    "papermill": {
     "duration": 0.711866,
     "end_time": "2025-02-01T14:51:03.706008",
     "exception": false,
     "start_time": "2025-02-01T14:51:02.994142",
     "status": "completed"
    },
    "tags": []
   },
   "outputs": [
    {
     "name": "stderr",
     "output_type": "stream",
     "text": [
      "/usr/local/lib/python3.10/dist-packages/seaborn/_oldcore.py:1119: FutureWarning: use_inf_as_na option is deprecated and will be removed in a future version. Convert inf values to NaN before operating instead.\n",
      "  with pd.option_context('mode.use_inf_as_na', True):\n",
      "/usr/local/lib/python3.10/dist-packages/seaborn/_oldcore.py:1119: FutureWarning: use_inf_as_na option is deprecated and will be removed in a future version. Convert inf values to NaN before operating instead.\n",
      "  with pd.option_context('mode.use_inf_as_na', True):\n"
     ]
    },
    {
     "data": {
      "image/png": "[encoded data removed]",
      "text/plain": [
       "<Figure size 800x500 with 1 Axes>"
      ]
     },
     "metadata": {},
     "output_type": "display_data"
    }
   ],
   "source": [
    "\n",
    "compare_with_normal(df['price'], 'Price')\n"
   ]
  },
  {
   "cell_type": "code",
   "execution_count": 18,
   "id": "199a7e89",
   "metadata": {
    "execution": {
     "iopub.execute_input": "2025-02-01T14:51:03.728115Z",
     "iopub.status.busy": "2025-02-01T14:51:03.727738Z",
     "iopub.status.idle": "2025-02-01T14:51:03.742624Z",
     "shell.execute_reply": "2025-02-01T14:51:03.741469Z"
    },
    "papermill": {
     "duration": 0.027604,
     "end_time": "2025-02-01T14:51:03.744197",
     "exception": false,
     "start_time": "2025-02-01T14:51:03.716593",
     "status": "completed"
    },
    "tags": []
   },
   "outputs": [
    {
     "name": "stdout",
     "output_type": "stream",
     "text": [
      "IQR 0.6948525071304275\n"
     ]
    }
   ],
   "source": [
    "IQR_df = df.copy()\n",
    "IQR_df['price'] = np.log1p(IQR_df['price'])\n",
    "Q1 = np.percentile(IQR_df['price'],25)\n",
    "Q3 = np.percentile(IQR_df['price'],75)\n",
    "IQR = Q3 -Q1\n",
    "print(\"IQR\",IQR)\n"
   ]
  },
  {
   "cell_type": "code",
   "execution_count": 19,
   "id": "09c7abe7",
   "metadata": {
    "execution": {
     "iopub.execute_input": "2025-02-01T14:51:03.766232Z",
     "iopub.status.busy": "2025-02-01T14:51:03.765835Z",
     "iopub.status.idle": "2025-02-01T14:51:03.770603Z",
     "shell.execute_reply": "2025-02-01T14:51:03.769498Z"
    },
    "papermill": {
     "duration": 0.017785,
     "end_time": "2025-02-01T14:51:03.772443",
     "exception": false,
     "start_time": "2025-02-01T14:51:03.754658",
     "status": "completed"
    },
    "tags": []
   },
   "outputs": [],
   "source": [
    "lower = Q1 - 1.5 * IQR\n",
    "upper = Q1 + 1.5 * IQR"
   ]
  },
  {
   "cell_type": "code",
   "execution_count": 20,
   "id": "d4a9ec24",
   "metadata": {
    "execution": {
     "iopub.execute_input": "2025-02-01T14:51:03.794982Z",
     "iopub.status.busy": "2025-02-01T14:51:03.794601Z",
     "iopub.status.idle": "2025-02-01T14:51:03.824923Z",
     "shell.execute_reply": "2025-02-01T14:51:03.823781Z"
    },
    "papermill": {
     "duration": 0.043109,
     "end_time": "2025-02-01T14:51:03.826609",
     "exception": false,
     "start_time": "2025-02-01T14:51:03.783500",
     "status": "completed"
    },
    "tags": []
   },
   "outputs": [
    {
     "data": {
      "text/html": [
       "<div>\n",
       "<style scoped>\n",
       "    .dataframe tbody tr th:only-of-type {\n",
       "        vertical-align: middle;\n",
       "    }\n",
       "\n",
       "    .dataframe tbody tr th {\n",
       "        vertical-align: top;\n",
       "    }\n",
       "\n",
       "    .dataframe thead th {\n",
       "        text-align: right;\n",
       "    }\n",
       "</style>\n",
       "<table border=\"1\" class=\"dataframe\">\n",
       "  <thead>\n",
       "    <tr style=\"text-align: right;\">\n",
       "      <th></th>\n",
       "      <th>id</th>\n",
       "      <th>date</th>\n",
       "      <th>price</th>\n",
       "      <th>bedrooms</th>\n",
       "      <th>bathrooms</th>\n",
       "      <th>sqft_living</th>\n",
       "      <th>sqft_lot</th>\n",
       "      <th>floors</th>\n",
       "      <th>waterfront</th>\n",
       "      <th>view</th>\n",
       "      <th>...</th>\n",
       "      <th>sqft_lot15</th>\n",
       "      <th>location_cluster</th>\n",
       "      <th>age</th>\n",
       "      <th>year</th>\n",
       "      <th>month</th>\n",
       "      <th>quartile</th>\n",
       "      <th>day</th>\n",
       "      <th>pct_living</th>\n",
       "      <th>total_rooms</th>\n",
       "      <th>price_per_sqft</th>\n",
       "    </tr>\n",
       "  </thead>\n",
       "  <tbody>\n",
       "    <tr>\n",
       "      <th>0</th>\n",
       "      <td>7129300520</td>\n",
       "      <td>2014-10-13</td>\n",
       "      <td>12.309987</td>\n",
       "      <td>3</td>\n",
       "      <td>1.00</td>\n",
       "      <td>1180</td>\n",
       "      <td>5650</td>\n",
       "      <td>1.0</td>\n",
       "      <td>0</td>\n",
       "      <td>0</td>\n",
       "      <td>...</td>\n",
       "      <td>5650</td>\n",
       "      <td>2</td>\n",
       "      <td>70</td>\n",
       "      <td>2014</td>\n",
       "      <td>10</td>\n",
       "      <td>4</td>\n",
       "      <td>13</td>\n",
       "      <td>0.172767</td>\n",
       "      <td>4.00</td>\n",
       "      <td>188.050847</td>\n",
       "    </tr>\n",
       "    <tr>\n",
       "      <th>1</th>\n",
       "      <td>6414100192</td>\n",
       "      <td>2014-12-09</td>\n",
       "      <td>13.195616</td>\n",
       "      <td>3</td>\n",
       "      <td>2.25</td>\n",
       "      <td>2570</td>\n",
       "      <td>7242</td>\n",
       "      <td>2.0</td>\n",
       "      <td>0</td>\n",
       "      <td>0</td>\n",
       "      <td>...</td>\n",
       "      <td>7639</td>\n",
       "      <td>0</td>\n",
       "      <td>74</td>\n",
       "      <td>2014</td>\n",
       "      <td>12</td>\n",
       "      <td>4</td>\n",
       "      <td>9</td>\n",
       "      <td>0.261924</td>\n",
       "      <td>5.25</td>\n",
       "      <td>209.338521</td>\n",
       "    </tr>\n",
       "    <tr>\n",
       "      <th>2</th>\n",
       "      <td>5631500400</td>\n",
       "      <td>2015-02-25</td>\n",
       "      <td>12.100718</td>\n",
       "      <td>2</td>\n",
       "      <td>1.00</td>\n",
       "      <td>770</td>\n",
       "      <td>10000</td>\n",
       "      <td>1.0</td>\n",
       "      <td>0</td>\n",
       "      <td>0</td>\n",
       "      <td>...</td>\n",
       "      <td>8062</td>\n",
       "      <td>6</td>\n",
       "      <td>92</td>\n",
       "      <td>2015</td>\n",
       "      <td>2</td>\n",
       "      <td>1</td>\n",
       "      <td>25</td>\n",
       "      <td>0.071495</td>\n",
       "      <td>3.00</td>\n",
       "      <td>233.766234</td>\n",
       "    </tr>\n",
       "    <tr>\n",
       "      <th>3</th>\n",
       "      <td>2487200875</td>\n",
       "      <td>2014-12-09</td>\n",
       "      <td>13.311331</td>\n",
       "      <td>4</td>\n",
       "      <td>3.00</td>\n",
       "      <td>1960</td>\n",
       "      <td>5000</td>\n",
       "      <td>1.0</td>\n",
       "      <td>0</td>\n",
       "      <td>0</td>\n",
       "      <td>...</td>\n",
       "      <td>5000</td>\n",
       "      <td>7</td>\n",
       "      <td>60</td>\n",
       "      <td>2014</td>\n",
       "      <td>12</td>\n",
       "      <td>4</td>\n",
       "      <td>9</td>\n",
       "      <td>0.281609</td>\n",
       "      <td>7.00</td>\n",
       "      <td>308.163265</td>\n",
       "    </tr>\n",
       "    <tr>\n",
       "      <th>4</th>\n",
       "      <td>1954400510</td>\n",
       "      <td>2015-02-18</td>\n",
       "      <td>13.142168</td>\n",
       "      <td>3</td>\n",
       "      <td>2.00</td>\n",
       "      <td>1680</td>\n",
       "      <td>8080</td>\n",
       "      <td>1.0</td>\n",
       "      <td>0</td>\n",
       "      <td>0</td>\n",
       "      <td>...</td>\n",
       "      <td>7503</td>\n",
       "      <td>1</td>\n",
       "      <td>38</td>\n",
       "      <td>2015</td>\n",
       "      <td>2</td>\n",
       "      <td>1</td>\n",
       "      <td>18</td>\n",
       "      <td>0.172131</td>\n",
       "      <td>5.00</td>\n",
       "      <td>303.571429</td>\n",
       "    </tr>\n",
       "    <tr>\n",
       "      <th>...</th>\n",
       "      <td>...</td>\n",
       "      <td>...</td>\n",
       "      <td>...</td>\n",
       "      <td>...</td>\n",
       "      <td>...</td>\n",
       "      <td>...</td>\n",
       "      <td>...</td>\n",
       "      <td>...</td>\n",
       "      <td>...</td>\n",
       "      <td>...</td>\n",
       "      <td>...</td>\n",
       "      <td>...</td>\n",
       "      <td>...</td>\n",
       "      <td>...</td>\n",
       "      <td>...</td>\n",
       "      <td>...</td>\n",
       "      <td>...</td>\n",
       "      <td>...</td>\n",
       "      <td>...</td>\n",
       "      <td>...</td>\n",
       "      <td>...</td>\n",
       "    </tr>\n",
       "    <tr>\n",
       "      <th>21608</th>\n",
       "      <td>263000018</td>\n",
       "      <td>2014-05-21</td>\n",
       "      <td>12.793862</td>\n",
       "      <td>3</td>\n",
       "      <td>2.50</td>\n",
       "      <td>1530</td>\n",
       "      <td>1131</td>\n",
       "      <td>3.0</td>\n",
       "      <td>0</td>\n",
       "      <td>0</td>\n",
       "      <td>...</td>\n",
       "      <td>1509</td>\n",
       "      <td>0</td>\n",
       "      <td>16</td>\n",
       "      <td>2014</td>\n",
       "      <td>5</td>\n",
       "      <td>2</td>\n",
       "      <td>21</td>\n",
       "      <td>0.574972</td>\n",
       "      <td>5.50</td>\n",
       "      <td>235.294118</td>\n",
       "    </tr>\n",
       "    <tr>\n",
       "      <th>21609</th>\n",
       "      <td>6600060120</td>\n",
       "      <td>2015-02-23</td>\n",
       "      <td>12.899222</td>\n",
       "      <td>4</td>\n",
       "      <td>2.50</td>\n",
       "      <td>2310</td>\n",
       "      <td>5813</td>\n",
       "      <td>2.0</td>\n",
       "      <td>0</td>\n",
       "      <td>0</td>\n",
       "      <td>...</td>\n",
       "      <td>7200</td>\n",
       "      <td>7</td>\n",
       "      <td>11</td>\n",
       "      <td>2015</td>\n",
       "      <td>2</td>\n",
       "      <td>1</td>\n",
       "      <td>23</td>\n",
       "      <td>0.284378</td>\n",
       "      <td>6.50</td>\n",
       "      <td>173.160173</td>\n",
       "    </tr>\n",
       "    <tr>\n",
       "      <th>21610</th>\n",
       "      <td>1523300141</td>\n",
       "      <td>2014-06-23</td>\n",
       "      <td>12.904461</td>\n",
       "      <td>2</td>\n",
       "      <td>0.75</td>\n",
       "      <td>1020</td>\n",
       "      <td>1350</td>\n",
       "      <td>2.0</td>\n",
       "      <td>0</td>\n",
       "      <td>0</td>\n",
       "      <td>...</td>\n",
       "      <td>2007</td>\n",
       "      <td>7</td>\n",
       "      <td>16</td>\n",
       "      <td>2014</td>\n",
       "      <td>6</td>\n",
       "      <td>2</td>\n",
       "      <td>23</td>\n",
       "      <td>0.430380</td>\n",
       "      <td>2.75</td>\n",
       "      <td>394.216667</td>\n",
       "    </tr>\n",
       "    <tr>\n",
       "      <th>21611</th>\n",
       "      <td>291310100</td>\n",
       "      <td>2015-01-16</td>\n",
       "      <td>12.899222</td>\n",
       "      <td>3</td>\n",
       "      <td>2.50</td>\n",
       "      <td>1600</td>\n",
       "      <td>2388</td>\n",
       "      <td>2.0</td>\n",
       "      <td>0</td>\n",
       "      <td>0</td>\n",
       "      <td>...</td>\n",
       "      <td>1287</td>\n",
       "      <td>1</td>\n",
       "      <td>21</td>\n",
       "      <td>2015</td>\n",
       "      <td>1</td>\n",
       "      <td>1</td>\n",
       "      <td>16</td>\n",
       "      <td>0.401204</td>\n",
       "      <td>5.50</td>\n",
       "      <td>250.000000</td>\n",
       "    </tr>\n",
       "    <tr>\n",
       "      <th>21612</th>\n",
       "      <td>1523300157</td>\n",
       "      <td>2014-10-15</td>\n",
       "      <td>12.691584</td>\n",
       "      <td>2</td>\n",
       "      <td>0.75</td>\n",
       "      <td>1020</td>\n",
       "      <td>1076</td>\n",
       "      <td>2.0</td>\n",
       "      <td>0</td>\n",
       "      <td>0</td>\n",
       "      <td>...</td>\n",
       "      <td>1357</td>\n",
       "      <td>7</td>\n",
       "      <td>17</td>\n",
       "      <td>2014</td>\n",
       "      <td>10</td>\n",
       "      <td>4</td>\n",
       "      <td>15</td>\n",
       "      <td>0.486641</td>\n",
       "      <td>2.75</td>\n",
       "      <td>318.627451</td>\n",
       "    </tr>\n",
       "  </tbody>\n",
       "</table>\n",
       "<p>19585 rows × 30 columns</p>\n",
       "</div>"
      ],
      "text/plain": [
       "               id       date      price  bedrooms  bathrooms  sqft_living  \\\n",
       "0      7129300520 2014-10-13  12.309987         3       1.00         1180   \n",
       "1      6414100192 2014-12-09  13.195616         3       2.25         2570   \n",
       "2      5631500400 2015-02-25  12.100718         2       1.00          770   \n",
       "3      2487200875 2014-12-09  13.311331         4       3.00         1960   \n",
       "4      1954400510 2015-02-18  13.142168         3       2.00         1680   \n",
       "...           ...        ...        ...       ...        ...          ...   \n",
       "21608   263000018 2014-05-21  12.793862         3       2.50         1530   \n",
       "21609  6600060120 2015-02-23  12.899222         4       2.50         2310   \n",
       "21610  1523300141 2014-06-23  12.904461         2       0.75         1020   \n",
       "21611   291310100 2015-01-16  12.899222         3       2.50         1600   \n",
       "21612  1523300157 2014-10-15  12.691584         2       0.75         1020   \n",
       "\n",
       "       sqft_lot  floors  waterfront  view  ...  sqft_lot15  location_cluster  \\\n",
       "0          5650     1.0           0     0  ...        5650                 2   \n",
       "1          7242     2.0           0     0  ...        7639                 0   \n",
       "2         10000     1.0           0     0  ...        8062                 6   \n",
       "3          5000     1.0           0     0  ...        5000                 7   \n",
       "4          8080     1.0           0     0  ...        7503                 1   \n",
       "...         ...     ...         ...   ...  ...         ...               ...   \n",
       "21608      1131     3.0           0     0  ...        1509                 0   \n",
       "21609      5813     2.0           0     0  ...        7200                 7   \n",
       "21610      1350     2.0           0     0  ...        2007                 7   \n",
       "21611      2388     2.0           0     0  ...        1287                 1   \n",
       "21612      1076     2.0           0     0  ...        1357                 7   \n",
       "\n",
       "       age  year  month  quartile  day  pct_living  total_rooms  \\\n",
       "0       70  2014     10         4   13    0.172767         4.00   \n",
       "1       74  2014     12         4    9    0.261924         5.25   \n",
       "2       92  2015      2         1   25    0.071495         3.00   \n",
       "3       60  2014     12         4    9    0.281609         7.00   \n",
       "4       38  2015      2         1   18    0.172131         5.00   \n",
       "...    ...   ...    ...       ...  ...         ...          ...   \n",
       "21608   16  2014      5         2   21    0.574972         5.50   \n",
       "21609   11  2015      2         1   23    0.284378         6.50   \n",
       "21610   16  2014      6         2   23    0.430380         2.75   \n",
       "21611   21  2015      1         1   16    0.401204         5.50   \n",
       "21612   17  2014     10         4   15    0.486641         2.75   \n",
       "\n",
       "       price_per_sqft  \n",
       "0          188.050847  \n",
       "1          209.338521  \n",
       "2          233.766234  \n",
       "3          308.163265  \n",
       "4          303.571429  \n",
       "...               ...  \n",
       "21608      235.294118  \n",
       "21609      173.160173  \n",
       "21610      394.216667  \n",
       "21611      250.000000  \n",
       "21612      318.627451  \n",
       "\n",
       "[19585 rows x 30 columns]"
      ]
     },
     "execution_count": 20,
     "metadata": {},
     "output_type": "execute_result"
    }
   ],
   "source": [
    "filtered_df = IQR_df[(IQR_df['price'] > lower) & (IQR_df['price'] < upper)]\n",
    "filtered_df"
   ]
  },
  {
   "cell_type": "code",
   "execution_count": 21,
   "id": "d4824a2e",
   "metadata": {
    "execution": {
     "iopub.execute_input": "2025-02-01T14:51:03.849219Z",
     "iopub.status.busy": "2025-02-01T14:51:03.848821Z",
     "iopub.status.idle": "2025-02-01T14:51:04.339738Z",
     "shell.execute_reply": "2025-02-01T14:51:04.338721Z"
    },
    "papermill": {
     "duration": 0.503863,
     "end_time": "2025-02-01T14:51:04.341325",
     "exception": false,
     "start_time": "2025-02-01T14:51:03.837462",
     "status": "completed"
    },
    "tags": []
   },
   "outputs": [
    {
     "name": "stderr",
     "output_type": "stream",
     "text": [
      "/usr/local/lib/python3.10/dist-packages/seaborn/_oldcore.py:1119: FutureWarning: use_inf_as_na option is deprecated and will be removed in a future version. Convert inf values to NaN before operating instead.\n",
      "  with pd.option_context('mode.use_inf_as_na', True):\n",
      "/usr/local/lib/python3.10/dist-packages/seaborn/_oldcore.py:1119: FutureWarning: use_inf_as_na option is deprecated and will be removed in a future version. Convert inf values to NaN before operating instead.\n",
      "  with pd.option_context('mode.use_inf_as_na', True):\n"
     ]
    },
    {
     "data": {
      "image/png": "[encoded data removed]",
      "text/plain": [
       "<Figure size 800x500 with 1 Axes>"
      ]
     },
     "metadata": {},
     "output_type": "display_data"
    }
   ],
   "source": [
    "compare_with_normal(filtered_df['price'],\"Filtered Price\")"
   ]
  },
  {
   "cell_type": "code",
   "execution_count": 22,
   "id": "71507a7c",
   "metadata": {
    "execution": {
     "iopub.execute_input": "2025-02-01T14:51:04.367172Z",
     "iopub.status.busy": "2025-02-01T14:51:04.366770Z",
     "iopub.status.idle": "2025-02-01T14:51:04.852001Z",
     "shell.execute_reply": "2025-02-01T14:51:04.850988Z"
    },
    "papermill": {
     "duration": 0.500217,
     "end_time": "2025-02-01T14:51:04.853668",
     "exception": false,
     "start_time": "2025-02-01T14:51:04.353451",
     "status": "completed"
    },
    "tags": []
   },
   "outputs": [
    {
     "name": "stderr",
     "output_type": "stream",
     "text": [
      "/usr/local/lib/python3.10/dist-packages/seaborn/_oldcore.py:1119: FutureWarning: use_inf_as_na option is deprecated and will be removed in a future version. Convert inf values to NaN before operating instead.\n",
      "  with pd.option_context('mode.use_inf_as_na', True):\n",
      "/usr/local/lib/python3.10/dist-packages/seaborn/_oldcore.py:1119: FutureWarning: use_inf_as_na option is deprecated and will be removed in a future version. Convert inf values to NaN before operating instead.\n",
      "  with pd.option_context('mode.use_inf_as_na', True):\n"
     ]
    },
    {
     "data": {
      "image/png": "[encoded data removed]",
      "text/plain": [
       "<Figure size 500x500 with 1 Axes>"
      ]
     },
     "metadata": {},
     "output_type": "display_data"
    },
    {
     "data": {
      "text/plain": [
       "<Figure size 640x480 with 0 Axes>"
      ]
     },
     "metadata": {},
     "output_type": "display_data"
    }
   ],
   "source": [
    "plt.figure(figsize=(5, 5))\n",
    "\n",
    "# Plot original data\n",
    "sns.histplot(df['price'], bins=100, color='red', alpha=0.5, label=\"Original Data\")\n",
    "\n",
    "# Plot filtered data\n",
    "sns.histplot(filtered_df['price'], bins=10, color='blue', alpha=0.7, label=\"Filtered Data (No Outliers)\")\n",
    "\n",
    "plt.legend()\n",
    "plt.title(\"Histogram: Original vs. Filtered Data\")\n",
    "plt.xlabel(\"Values\")\n",
    "plt.ylabel(\"Frequency\")\n",
    "plt.grid()\n",
    "\n",
    "plt.show()\n",
    "plt.savefig(f'{IMAGES_FILEPATH}/Filtered_Histogram_Data.png')"
   ]
  },
  {
   "cell_type": "code",
   "execution_count": 23,
   "id": "2a81fabe",
   "metadata": {
    "execution": {
     "iopub.execute_input": "2025-02-01T14:51:04.880034Z",
     "iopub.status.busy": "2025-02-01T14:51:04.879687Z",
     "iopub.status.idle": "2025-02-01T14:51:04.911083Z",
     "shell.execute_reply": "2025-02-01T14:51:04.909958Z"
    },
    "papermill": {
     "duration": 0.046566,
     "end_time": "2025-02-01T14:51:04.912821",
     "exception": false,
     "start_time": "2025-02-01T14:51:04.866255",
     "status": "completed"
    },
    "tags": []
   },
   "outputs": [
    {
     "data": {
      "text/html": [
       "<div>\n",
       "<style scoped>\n",
       "    .dataframe tbody tr th:only-of-type {\n",
       "        vertical-align: middle;\n",
       "    }\n",
       "\n",
       "    .dataframe tbody tr th {\n",
       "        vertical-align: top;\n",
       "    }\n",
       "\n",
       "    .dataframe thead th {\n",
       "        text-align: right;\n",
       "    }\n",
       "</style>\n",
       "<table border=\"1\" class=\"dataframe\">\n",
       "  <thead>\n",
       "    <tr style=\"text-align: right;\">\n",
       "      <th></th>\n",
       "      <th>price</th>\n",
       "      <th>bedrooms</th>\n",
       "      <th>bathrooms</th>\n",
       "      <th>sqft_living</th>\n",
       "      <th>sqft_lot</th>\n",
       "      <th>floors</th>\n",
       "      <th>waterfront</th>\n",
       "      <th>view</th>\n",
       "      <th>condition</th>\n",
       "      <th>grade</th>\n",
       "      <th>...</th>\n",
       "      <th>sqft_lot15</th>\n",
       "      <th>location_cluster</th>\n",
       "      <th>age</th>\n",
       "      <th>year</th>\n",
       "      <th>month</th>\n",
       "      <th>quartile</th>\n",
       "      <th>day</th>\n",
       "      <th>pct_living</th>\n",
       "      <th>total_rooms</th>\n",
       "      <th>price_per_sqft</th>\n",
       "    </tr>\n",
       "  </thead>\n",
       "  <tbody>\n",
       "    <tr>\n",
       "      <th>0</th>\n",
       "      <td>12.309987</td>\n",
       "      <td>3</td>\n",
       "      <td>1.00</td>\n",
       "      <td>1180</td>\n",
       "      <td>5650</td>\n",
       "      <td>1.0</td>\n",
       "      <td>0</td>\n",
       "      <td>0</td>\n",
       "      <td>3</td>\n",
       "      <td>7</td>\n",
       "      <td>...</td>\n",
       "      <td>5650</td>\n",
       "      <td>2</td>\n",
       "      <td>70</td>\n",
       "      <td>2014</td>\n",
       "      <td>10</td>\n",
       "      <td>4</td>\n",
       "      <td>13</td>\n",
       "      <td>0.172767</td>\n",
       "      <td>4.00</td>\n",
       "      <td>188.050847</td>\n",
       "    </tr>\n",
       "    <tr>\n",
       "      <th>1</th>\n",
       "      <td>13.195616</td>\n",
       "      <td>3</td>\n",
       "      <td>2.25</td>\n",
       "      <td>2570</td>\n",
       "      <td>7242</td>\n",
       "      <td>2.0</td>\n",
       "      <td>0</td>\n",
       "      <td>0</td>\n",
       "      <td>3</td>\n",
       "      <td>7</td>\n",
       "      <td>...</td>\n",
       "      <td>7639</td>\n",
       "      <td>0</td>\n",
       "      <td>74</td>\n",
       "      <td>2014</td>\n",
       "      <td>12</td>\n",
       "      <td>4</td>\n",
       "      <td>9</td>\n",
       "      <td>0.261924</td>\n",
       "      <td>5.25</td>\n",
       "      <td>209.338521</td>\n",
       "    </tr>\n",
       "    <tr>\n",
       "      <th>2</th>\n",
       "      <td>12.100718</td>\n",
       "      <td>2</td>\n",
       "      <td>1.00</td>\n",
       "      <td>770</td>\n",
       "      <td>10000</td>\n",
       "      <td>1.0</td>\n",
       "      <td>0</td>\n",
       "      <td>0</td>\n",
       "      <td>3</td>\n",
       "      <td>6</td>\n",
       "      <td>...</td>\n",
       "      <td>8062</td>\n",
       "      <td>6</td>\n",
       "      <td>92</td>\n",
       "      <td>2015</td>\n",
       "      <td>2</td>\n",
       "      <td>1</td>\n",
       "      <td>25</td>\n",
       "      <td>0.071495</td>\n",
       "      <td>3.00</td>\n",
       "      <td>233.766234</td>\n",
       "    </tr>\n",
       "    <tr>\n",
       "      <th>3</th>\n",
       "      <td>13.311331</td>\n",
       "      <td>4</td>\n",
       "      <td>3.00</td>\n",
       "      <td>1960</td>\n",
       "      <td>5000</td>\n",
       "      <td>1.0</td>\n",
       "      <td>0</td>\n",
       "      <td>0</td>\n",
       "      <td>5</td>\n",
       "      <td>7</td>\n",
       "      <td>...</td>\n",
       "      <td>5000</td>\n",
       "      <td>7</td>\n",
       "      <td>60</td>\n",
       "      <td>2014</td>\n",
       "      <td>12</td>\n",
       "      <td>4</td>\n",
       "      <td>9</td>\n",
       "      <td>0.281609</td>\n",
       "      <td>7.00</td>\n",
       "      <td>308.163265</td>\n",
       "    </tr>\n",
       "    <tr>\n",
       "      <th>4</th>\n",
       "      <td>13.142168</td>\n",
       "      <td>3</td>\n",
       "      <td>2.00</td>\n",
       "      <td>1680</td>\n",
       "      <td>8080</td>\n",
       "      <td>1.0</td>\n",
       "      <td>0</td>\n",
       "      <td>0</td>\n",
       "      <td>3</td>\n",
       "      <td>8</td>\n",
       "      <td>...</td>\n",
       "      <td>7503</td>\n",
       "      <td>1</td>\n",
       "      <td>38</td>\n",
       "      <td>2015</td>\n",
       "      <td>2</td>\n",
       "      <td>1</td>\n",
       "      <td>18</td>\n",
       "      <td>0.172131</td>\n",
       "      <td>5.00</td>\n",
       "      <td>303.571429</td>\n",
       "    </tr>\n",
       "    <tr>\n",
       "      <th>...</th>\n",
       "      <td>...</td>\n",
       "      <td>...</td>\n",
       "      <td>...</td>\n",
       "      <td>...</td>\n",
       "      <td>...</td>\n",
       "      <td>...</td>\n",
       "      <td>...</td>\n",
       "      <td>...</td>\n",
       "      <td>...</td>\n",
       "      <td>...</td>\n",
       "      <td>...</td>\n",
       "      <td>...</td>\n",
       "      <td>...</td>\n",
       "      <td>...</td>\n",
       "      <td>...</td>\n",
       "      <td>...</td>\n",
       "      <td>...</td>\n",
       "      <td>...</td>\n",
       "      <td>...</td>\n",
       "      <td>...</td>\n",
       "      <td>...</td>\n",
       "    </tr>\n",
       "    <tr>\n",
       "      <th>21608</th>\n",
       "      <td>12.793862</td>\n",
       "      <td>3</td>\n",
       "      <td>2.50</td>\n",
       "      <td>1530</td>\n",
       "      <td>1131</td>\n",
       "      <td>3.0</td>\n",
       "      <td>0</td>\n",
       "      <td>0</td>\n",
       "      <td>3</td>\n",
       "      <td>8</td>\n",
       "      <td>...</td>\n",
       "      <td>1509</td>\n",
       "      <td>0</td>\n",
       "      <td>16</td>\n",
       "      <td>2014</td>\n",
       "      <td>5</td>\n",
       "      <td>2</td>\n",
       "      <td>21</td>\n",
       "      <td>0.574972</td>\n",
       "      <td>5.50</td>\n",
       "      <td>235.294118</td>\n",
       "    </tr>\n",
       "    <tr>\n",
       "      <th>21609</th>\n",
       "      <td>12.899222</td>\n",
       "      <td>4</td>\n",
       "      <td>2.50</td>\n",
       "      <td>2310</td>\n",
       "      <td>5813</td>\n",
       "      <td>2.0</td>\n",
       "      <td>0</td>\n",
       "      <td>0</td>\n",
       "      <td>3</td>\n",
       "      <td>8</td>\n",
       "      <td>...</td>\n",
       "      <td>7200</td>\n",
       "      <td>7</td>\n",
       "      <td>11</td>\n",
       "      <td>2015</td>\n",
       "      <td>2</td>\n",
       "      <td>1</td>\n",
       "      <td>23</td>\n",
       "      <td>0.284378</td>\n",
       "      <td>6.50</td>\n",
       "      <td>173.160173</td>\n",
       "    </tr>\n",
       "    <tr>\n",
       "      <th>21610</th>\n",
       "      <td>12.904461</td>\n",
       "      <td>2</td>\n",
       "      <td>0.75</td>\n",
       "      <td>1020</td>\n",
       "      <td>1350</td>\n",
       "      <td>2.0</td>\n",
       "      <td>0</td>\n",
       "      <td>0</td>\n",
       "      <td>3</td>\n",
       "      <td>7</td>\n",
       "      <td>...</td>\n",
       "      <td>2007</td>\n",
       "      <td>7</td>\n",
       "      <td>16</td>\n",
       "      <td>2014</td>\n",
       "      <td>6</td>\n",
       "      <td>2</td>\n",
       "      <td>23</td>\n",
       "      <td>0.430380</td>\n",
       "      <td>2.75</td>\n",
       "      <td>394.216667</td>\n",
       "    </tr>\n",
       "    <tr>\n",
       "      <th>21611</th>\n",
       "      <td>12.899222</td>\n",
       "      <td>3</td>\n",
       "      <td>2.50</td>\n",
       "      <td>1600</td>\n",
       "      <td>2388</td>\n",
       "      <td>2.0</td>\n",
       "      <td>0</td>\n",
       "      <td>0</td>\n",
       "      <td>3</td>\n",
       "      <td>8</td>\n",
       "      <td>...</td>\n",
       "      <td>1287</td>\n",
       "      <td>1</td>\n",
       "      <td>21</td>\n",
       "      <td>2015</td>\n",
       "      <td>1</td>\n",
       "      <td>1</td>\n",
       "      <td>16</td>\n",
       "      <td>0.401204</td>\n",
       "      <td>5.50</td>\n",
       "      <td>250.000000</td>\n",
       "    </tr>\n",
       "    <tr>\n",
       "      <th>21612</th>\n",
       "      <td>12.691584</td>\n",
       "      <td>2</td>\n",
       "      <td>0.75</td>\n",
       "      <td>1020</td>\n",
       "      <td>1076</td>\n",
       "      <td>2.0</td>\n",
       "      <td>0</td>\n",
       "      <td>0</td>\n",
       "      <td>3</td>\n",
       "      <td>7</td>\n",
       "      <td>...</td>\n",
       "      <td>1357</td>\n",
       "      <td>7</td>\n",
       "      <td>17</td>\n",
       "      <td>2014</td>\n",
       "      <td>10</td>\n",
       "      <td>4</td>\n",
       "      <td>15</td>\n",
       "      <td>0.486641</td>\n",
       "      <td>2.75</td>\n",
       "      <td>318.627451</td>\n",
       "    </tr>\n",
       "  </tbody>\n",
       "</table>\n",
       "<p>19585 rows × 25 columns</p>\n",
       "</div>"
      ],
      "text/plain": [
       "           price  bedrooms  bathrooms  sqft_living  sqft_lot  floors  \\\n",
       "0      12.309987         3       1.00         1180      5650     1.0   \n",
       "1      13.195616         3       2.25         2570      7242     2.0   \n",
       "2      12.100718         2       1.00          770     10000     1.0   \n",
       "3      13.311331         4       3.00         1960      5000     1.0   \n",
       "4      13.142168         3       2.00         1680      8080     1.0   \n",
       "...          ...       ...        ...          ...       ...     ...   \n",
       "21608  12.793862         3       2.50         1530      1131     3.0   \n",
       "21609  12.899222         4       2.50         2310      5813     2.0   \n",
       "21610  12.904461         2       0.75         1020      1350     2.0   \n",
       "21611  12.899222         3       2.50         1600      2388     2.0   \n",
       "21612  12.691584         2       0.75         1020      1076     2.0   \n",
       "\n",
       "       waterfront  view  condition  grade  ...  sqft_lot15  location_cluster  \\\n",
       "0               0     0          3      7  ...        5650                 2   \n",
       "1               0     0          3      7  ...        7639                 0   \n",
       "2               0     0          3      6  ...        8062                 6   \n",
       "3               0     0          5      7  ...        5000                 7   \n",
       "4               0     0          3      8  ...        7503                 1   \n",
       "...           ...   ...        ...    ...  ...         ...               ...   \n",
       "21608           0     0          3      8  ...        1509                 0   \n",
       "21609           0     0          3      8  ...        7200                 7   \n",
       "21610           0     0          3      7  ...        2007                 7   \n",
       "21611           0     0          3      8  ...        1287                 1   \n",
       "21612           0     0          3      7  ...        1357                 7   \n",
       "\n",
       "       age  year  month  quartile  day  pct_living  total_rooms  \\\n",
       "0       70  2014     10         4   13    0.172767         4.00   \n",
       "1       74  2014     12         4    9    0.261924         5.25   \n",
       "2       92  2015      2         1   25    0.071495         3.00   \n",
       "3       60  2014     12         4    9    0.281609         7.00   \n",
       "4       38  2015      2         1   18    0.172131         5.00   \n",
       "...    ...   ...    ...       ...  ...         ...          ...   \n",
       "21608   16  2014      5         2   21    0.574972         5.50   \n",
       "21609   11  2015      2         1   23    0.284378         6.50   \n",
       "21610   16  2014      6         2   23    0.430380         2.75   \n",
       "21611   21  2015      1         1   16    0.401204         5.50   \n",
       "21612   17  2014     10         4   15    0.486641         2.75   \n",
       "\n",
       "       price_per_sqft  \n",
       "0          188.050847  \n",
       "1          209.338521  \n",
       "2          233.766234  \n",
       "3          308.163265  \n",
       "4          303.571429  \n",
       "...               ...  \n",
       "21608      235.294118  \n",
       "21609      173.160173  \n",
       "21610      394.216667  \n",
       "21611      250.000000  \n",
       "21612      318.627451  \n",
       "\n",
       "[19585 rows x 25 columns]"
      ]
     },
     "execution_count": 23,
     "metadata": {},
     "output_type": "execute_result"
    }
   ],
   "source": [
    "remove_columns = ['id','zipcode','lat','long','date']\n",
    "\n",
    "data = filtered_df.drop(remove_columns, axis=1)\n",
    "data"
   ]
  },
  {
   "cell_type": "code",
   "execution_count": 24,
   "id": "1e5f97d5",
   "metadata": {
    "execution": {
     "iopub.execute_input": "2025-02-01T14:51:04.940552Z",
     "iopub.status.busy": "2025-02-01T14:51:04.940189Z",
     "iopub.status.idle": "2025-02-01T14:51:04.959268Z",
     "shell.execute_reply": "2025-02-01T14:51:04.958311Z"
    },
    "papermill": {
     "duration": 0.034723,
     "end_time": "2025-02-01T14:51:04.960886",
     "exception": false,
     "start_time": "2025-02-01T14:51:04.926163",
     "status": "completed"
    },
    "tags": []
   },
   "outputs": [
    {
     "data": {
      "text/html": [
       "<div>\n",
       "<style scoped>\n",
       "    .dataframe tbody tr th:only-of-type {\n",
       "        vertical-align: middle;\n",
       "    }\n",
       "\n",
       "    .dataframe tbody tr th {\n",
       "        vertical-align: top;\n",
       "    }\n",
       "\n",
       "    .dataframe thead th {\n",
       "        text-align: right;\n",
       "    }\n",
       "</style>\n",
       "<table border=\"1\" class=\"dataframe\">\n",
       "  <thead>\n",
       "    <tr style=\"text-align: right;\">\n",
       "      <th></th>\n",
       "      <th>price</th>\n",
       "      <th>bedrooms</th>\n",
       "      <th>bathrooms</th>\n",
       "      <th>sqft_living</th>\n",
       "      <th>sqft_lot</th>\n",
       "      <th>floors</th>\n",
       "      <th>waterfront</th>\n",
       "      <th>view</th>\n",
       "      <th>condition</th>\n",
       "      <th>grade</th>\n",
       "      <th>...</th>\n",
       "      <th>sqft_lot15</th>\n",
       "      <th>location_cluster</th>\n",
       "      <th>age</th>\n",
       "      <th>year</th>\n",
       "      <th>month</th>\n",
       "      <th>quartile</th>\n",
       "      <th>day</th>\n",
       "      <th>pct_living</th>\n",
       "      <th>total_rooms</th>\n",
       "      <th>price_per_sqft</th>\n",
       "    </tr>\n",
       "  </thead>\n",
       "  <tbody>\n",
       "    <tr>\n",
       "      <th>0</th>\n",
       "      <td>12.309987</td>\n",
       "      <td>3</td>\n",
       "      <td>1.00</td>\n",
       "      <td>1180</td>\n",
       "      <td>5650</td>\n",
       "      <td>1.0</td>\n",
       "      <td>0</td>\n",
       "      <td>0</td>\n",
       "      <td>3</td>\n",
       "      <td>7</td>\n",
       "      <td>...</td>\n",
       "      <td>5650</td>\n",
       "      <td>2</td>\n",
       "      <td>70</td>\n",
       "      <td>2014</td>\n",
       "      <td>10</td>\n",
       "      <td>4</td>\n",
       "      <td>13</td>\n",
       "      <td>0.172767</td>\n",
       "      <td>4.00</td>\n",
       "      <td>188.050847</td>\n",
       "    </tr>\n",
       "    <tr>\n",
       "      <th>1</th>\n",
       "      <td>13.195616</td>\n",
       "      <td>3</td>\n",
       "      <td>2.25</td>\n",
       "      <td>2570</td>\n",
       "      <td>7242</td>\n",
       "      <td>2.0</td>\n",
       "      <td>0</td>\n",
       "      <td>0</td>\n",
       "      <td>3</td>\n",
       "      <td>7</td>\n",
       "      <td>...</td>\n",
       "      <td>7639</td>\n",
       "      <td>0</td>\n",
       "      <td>74</td>\n",
       "      <td>2014</td>\n",
       "      <td>12</td>\n",
       "      <td>4</td>\n",
       "      <td>9</td>\n",
       "      <td>0.261924</td>\n",
       "      <td>5.25</td>\n",
       "      <td>209.338521</td>\n",
       "    </tr>\n",
       "    <tr>\n",
       "      <th>2</th>\n",
       "      <td>12.100718</td>\n",
       "      <td>2</td>\n",
       "      <td>1.00</td>\n",
       "      <td>770</td>\n",
       "      <td>10000</td>\n",
       "      <td>1.0</td>\n",
       "      <td>0</td>\n",
       "      <td>0</td>\n",
       "      <td>3</td>\n",
       "      <td>6</td>\n",
       "      <td>...</td>\n",
       "      <td>8062</td>\n",
       "      <td>6</td>\n",
       "      <td>92</td>\n",
       "      <td>2015</td>\n",
       "      <td>2</td>\n",
       "      <td>1</td>\n",
       "      <td>25</td>\n",
       "      <td>0.071495</td>\n",
       "      <td>3.00</td>\n",
       "      <td>233.766234</td>\n",
       "    </tr>\n",
       "    <tr>\n",
       "      <th>3</th>\n",
       "      <td>13.311331</td>\n",
       "      <td>4</td>\n",
       "      <td>3.00</td>\n",
       "      <td>1960</td>\n",
       "      <td>5000</td>\n",
       "      <td>1.0</td>\n",
       "      <td>0</td>\n",
       "      <td>0</td>\n",
       "      <td>5</td>\n",
       "      <td>7</td>\n",
       "      <td>...</td>\n",
       "      <td>5000</td>\n",
       "      <td>7</td>\n",
       "      <td>60</td>\n",
       "      <td>2014</td>\n",
       "      <td>12</td>\n",
       "      <td>4</td>\n",
       "      <td>9</td>\n",
       "      <td>0.281609</td>\n",
       "      <td>7.00</td>\n",
       "      <td>308.163265</td>\n",
       "    </tr>\n",
       "    <tr>\n",
       "      <th>4</th>\n",
       "      <td>13.142168</td>\n",
       "      <td>3</td>\n",
       "      <td>2.00</td>\n",
       "      <td>1680</td>\n",
       "      <td>8080</td>\n",
       "      <td>1.0</td>\n",
       "      <td>0</td>\n",
       "      <td>0</td>\n",
       "      <td>3</td>\n",
       "      <td>8</td>\n",
       "      <td>...</td>\n",
       "      <td>7503</td>\n",
       "      <td>1</td>\n",
       "      <td>38</td>\n",
       "      <td>2015</td>\n",
       "      <td>2</td>\n",
       "      <td>1</td>\n",
       "      <td>18</td>\n",
       "      <td>0.172131</td>\n",
       "      <td>5.00</td>\n",
       "      <td>303.571429</td>\n",
       "    </tr>\n",
       "  </tbody>\n",
       "</table>\n",
       "<p>5 rows × 25 columns</p>\n",
       "</div>"
      ],
      "text/plain": [
       "       price  bedrooms  bathrooms  sqft_living  sqft_lot  floors  waterfront  \\\n",
       "0  12.309987         3       1.00         1180      5650     1.0           0   \n",
       "1  13.195616         3       2.25         2570      7242     2.0           0   \n",
       "2  12.100718         2       1.00          770     10000     1.0           0   \n",
       "3  13.311331         4       3.00         1960      5000     1.0           0   \n",
       "4  13.142168         3       2.00         1680      8080     1.0           0   \n",
       "\n",
       "   view  condition  grade  ...  sqft_lot15  location_cluster  age  year  \\\n",
       "0     0          3      7  ...        5650                 2   70  2014   \n",
       "1     0          3      7  ...        7639                 0   74  2014   \n",
       "2     0          3      6  ...        8062                 6   92  2015   \n",
       "3     0          5      7  ...        5000                 7   60  2014   \n",
       "4     0          3      8  ...        7503                 1   38  2015   \n",
       "\n",
       "   month  quartile  day  pct_living  total_rooms  price_per_sqft  \n",
       "0     10         4   13    0.172767         4.00      188.050847  \n",
       "1     12         4    9    0.261924         5.25      209.338521  \n",
       "2      2         1   25    0.071495         3.00      233.766234  \n",
       "3     12         4    9    0.281609         7.00      308.163265  \n",
       "4      2         1   18    0.172131         5.00      303.571429  \n",
       "\n",
       "[5 rows x 25 columns]"
      ]
     },
     "execution_count": 24,
     "metadata": {},
     "output_type": "execute_result"
    }
   ],
   "source": [
    "data.head()"
   ]
  },
  {
   "cell_type": "code",
   "execution_count": 25,
   "id": "8a84cd1d",
   "metadata": {
    "execution": {
     "iopub.execute_input": "2025-02-01T14:51:04.988952Z",
     "iopub.status.busy": "2025-02-01T14:51:04.988588Z",
     "iopub.status.idle": "2025-02-01T14:51:05.030445Z",
     "shell.execute_reply": "2025-02-01T14:51:05.029375Z"
    },
    "papermill": {
     "duration": 0.057903,
     "end_time": "2025-02-01T14:51:05.032374",
     "exception": false,
     "start_time": "2025-02-01T14:51:04.974471",
     "status": "completed"
    },
    "tags": []
   },
   "outputs": [],
   "source": [
    "X = data.drop('price', axis=1)\n",
    "y = data['price']\n",
    "scaler = StandardScaler()\n",
    "X_scaled = scaler.fit_transform(X)  \n",
    "\n",
    "X_train, X_test, y_train, y_test = train_test_split(X_scaled, y, test_size=0.2, random_state=42)"
   ]
  },
  {
   "cell_type": "code",
   "execution_count": 26,
   "id": "7655ca19",
   "metadata": {
    "execution": {
     "iopub.execute_input": "2025-02-01T14:51:05.059600Z",
     "iopub.status.busy": "2025-02-01T14:51:05.059250Z",
     "iopub.status.idle": "2025-02-01T14:51:05.066849Z",
     "shell.execute_reply": "2025-02-01T14:51:05.065818Z"
    },
    "papermill": {
     "duration": 0.022952,
     "end_time": "2025-02-01T14:51:05.068438",
     "exception": false,
     "start_time": "2025-02-01T14:51:05.045486",
     "status": "completed"
    },
    "tags": []
   },
   "outputs": [],
   "source": [
    "class LinearRegression():\n",
    "    def __init__(self,learning_rate, n_iter) -> None:\n",
    "        self.learning_rate = learning_rate\n",
    "        self.n_iter = n_iter\n",
    "        self.weights = None\n",
    "        self.bias = None\n",
    "        self.cost_history = []\n",
    "\n",
    "    \n",
    "    def _mean_squared_error(self, y_true, y_predicted):\n",
    "        return np.mean((y_true - y_predicted)**2)\n",
    "\n",
    "    def fit(self, X, y):\n",
    "        n_samples, n_features = X.shape\n",
    "        \n",
    "        self.weights = np.zeros(n_features)\n",
    "        self.bias =0 \n",
    "\n",
    "        for _ in range(self.n_iter):\n",
    "            y_predicted = np.dot(X, self.weights) + self.bias\n",
    "\n",
    "            dw = (1/n_samples) * np.dot(X.T, (y_predicted - y))\n",
    "            db = (1/n_samples) * np.sum(y_predicted - y)\n",
    "\n",
    "            self.weights -= self.learning_rate * dw\n",
    "            self.bias -= self.learning_rate * db\n",
    "\n",
    "            cost = self._mean_squared_error(y, y_predicted)\n",
    "            self.cost_history.append(cost)\n",
    "\n",
    "\n",
    "    \n",
    "    def predict(self, X):\n",
    "         return np.dot(X, self.weights) + self.bias\n",
    "\n",
    "    def get_params(self):\n",
    "        return self.weights, self.bias\n",
    "\n",
    "\n",
    "\n",
    "\n"
   ]
  },
  {
   "cell_type": "code",
   "execution_count": 27,
   "id": "0aabaa27",
   "metadata": {
    "execution": {
     "iopub.execute_input": "2025-02-01T14:51:05.096115Z",
     "iopub.status.busy": "2025-02-01T14:51:05.095717Z",
     "iopub.status.idle": "2025-02-01T14:51:05.100820Z",
     "shell.execute_reply": "2025-02-01T14:51:05.099656Z"
    },
    "papermill": {
     "duration": 0.020608,
     "end_time": "2025-02-01T14:51:05.102465",
     "exception": false,
     "start_time": "2025-02-01T14:51:05.081857",
     "status": "completed"
    },
    "tags": []
   },
   "outputs": [
    {
     "name": "stdout",
     "output_type": "stream",
     "text": [
      "(15668, 24) (15668,)\n"
     ]
    }
   ],
   "source": [
    "print(X_train.shape, y_train.shape)\n",
    "model = LinearRegression(learning_rate=0.01, n_iter=1000)"
   ]
  },
  {
   "cell_type": "code",
   "execution_count": 28,
   "id": "87fbde7d",
   "metadata": {
    "execution": {
     "iopub.execute_input": "2025-02-01T14:51:05.130265Z",
     "iopub.status.busy": "2025-02-01T14:51:05.129894Z",
     "iopub.status.idle": "2025-02-01T14:51:06.119281Z",
     "shell.execute_reply": "2025-02-01T14:51:06.118143Z"
    },
    "papermill": {
     "duration": 1.005229,
     "end_time": "2025-02-01T14:51:06.120986",
     "exception": false,
     "start_time": "2025-02-01T14:51:05.115757",
     "status": "completed"
    },
    "tags": []
   },
   "outputs": [
    {
     "name": "stdout",
     "output_type": "stream",
     "text": [
      "Best parameters: <bound method LinearRegression.get_params of <__main__.LinearRegression object at 0x7df978853be0>>\n"
     ]
    }
   ],
   "source": [
    "\n",
    "model.fit(X_train, y_train)\n",
    "print(f'Best parameters: {model.get_params}')"
   ]
  },
  {
   "cell_type": "code",
   "execution_count": 29,
   "id": "7b6f6cdf",
   "metadata": {
    "execution": {
     "iopub.execute_input": "2025-02-01T14:51:06.148575Z",
     "iopub.status.busy": "2025-02-01T14:51:06.148215Z",
     "iopub.status.idle": "2025-02-01T14:51:06.152840Z",
     "shell.execute_reply": "2025-02-01T14:51:06.151731Z"
    },
    "papermill": {
     "duration": 0.02029,
     "end_time": "2025-02-01T14:51:06.154477",
     "exception": false,
     "start_time": "2025-02-01T14:51:06.134187",
     "status": "completed"
    },
    "tags": []
   },
   "outputs": [],
   "source": [
    "y_pred = model.predict(X_test)"
   ]
  },
  {
   "cell_type": "code",
   "execution_count": 30,
   "id": "cc3f49ff",
   "metadata": {
    "execution": {
     "iopub.execute_input": "2025-02-01T14:51:06.182243Z",
     "iopub.status.busy": "2025-02-01T14:51:06.181872Z",
     "iopub.status.idle": "2025-02-01T14:51:06.188085Z",
     "shell.execute_reply": "2025-02-01T14:51:06.187037Z"
    },
    "papermill": {
     "duration": 0.021759,
     "end_time": "2025-02-01T14:51:06.189568",
     "exception": false,
     "start_time": "2025-02-01T14:51:06.167809",
     "status": "completed"
    },
    "tags": []
   },
   "outputs": [
    {
     "name": "stdout",
     "output_type": "stream",
     "text": [
      "Mean Squared Error: 0.01663048200087528\n"
     ]
    }
   ],
   "source": [
    "mse = mean_squared_error(y_test, y_pred)\n",
    "print(f'Mean Squared Error: {mse}')"
   ]
  },
  {
   "cell_type": "code",
   "execution_count": 31,
   "id": "ca5b9b21",
   "metadata": {
    "execution": {
     "iopub.execute_input": "2025-02-01T14:51:06.219159Z",
     "iopub.status.busy": "2025-02-01T14:51:06.218752Z",
     "iopub.status.idle": "2025-02-01T14:51:06.423318Z",
     "shell.execute_reply": "2025-02-01T14:51:06.422329Z"
    },
    "papermill": {
     "duration": 0.220446,
     "end_time": "2025-02-01T14:51:06.424999",
     "exception": false,
     "start_time": "2025-02-01T14:51:06.204553",
     "status": "completed"
    },
    "tags": []
   },
   "outputs": [
    {
     "data": {
      "image/png": "[encoded data removed]",
      "text/plain": [
       "<Figure size 640x480 with 1 Axes>"
      ]
     },
     "metadata": {},
     "output_type": "display_data"
    }
   ],
   "source": [
    "\n",
    "residuals = y_test - y_pred\n",
    "plt.scatter(y_pred, residuals)\n",
    "plt.axhline(0, color='red', linestyle='--')\n",
    "plt.xlabel('Predicted Values')\n",
    "plt.ylabel('Residuals')\n",
    "plt.title('Residual Plot')\n",
    "plt.show()"
   ]
  },
  {
   "cell_type": "code",
   "execution_count": 32,
   "id": "8076ecc7",
   "metadata": {
    "execution": {
     "iopub.execute_input": "2025-02-01T14:51:06.455135Z",
     "iopub.status.busy": "2025-02-01T14:51:06.454714Z",
     "iopub.status.idle": "2025-02-01T14:51:06.737602Z",
     "shell.execute_reply": "2025-02-01T14:51:06.736568Z"
    },
    "papermill": {
     "duration": 0.299833,
     "end_time": "2025-02-01T14:51:06.739244",
     "exception": false,
     "start_time": "2025-02-01T14:51:06.439411",
     "status": "completed"
    },
    "tags": []
   },
   "outputs": [
    {
     "data": {
      "image/png": "[encoded data removed]",
      "text/plain": [
       "<Figure size 640x480 with 1 Axes>"
      ]
     },
     "metadata": {},
     "output_type": "display_data"
    }
   ],
   "source": [
    "plt.scatter(y_test, y_pred, alpha=0.6)\n",
    "plt.plot([y_test.min(), y_test.max()], [y_test.min(), y_test.max()], 'r--')  # Diagonal line\n",
    "plt.xlabel('Actual Values')\n",
    "plt.ylabel('Predicted Values')\n",
    "plt.title('Predicted vs Actual Values')\n",
    "plt.savefig(f'{IMAGES_FILEPATH}/Predicted_vs_Actual_Values.jpg')\n",
    "plt.show()"
   ]
  },
  {
   "cell_type": "code",
   "execution_count": 33,
   "id": "d0c5d4a0",
   "metadata": {
    "execution": {
     "iopub.execute_input": "2025-02-01T14:51:06.773114Z",
     "iopub.status.busy": "2025-02-01T14:51:06.772699Z",
     "iopub.status.idle": "2025-02-01T14:51:06.776962Z",
     "shell.execute_reply": "2025-02-01T14:51:06.775849Z"
    },
    "papermill": {
     "duration": 0.023004,
     "end_time": "2025-02-01T14:51:06.778829",
     "exception": false,
     "start_time": "2025-02-01T14:51:06.755825",
     "status": "completed"
    },
    "tags": []
   },
   "outputs": [],
   "source": [
    "# df.to_csv('cleaned_data.csv', index=False)"
   ]
  }
 ],
 "metadata": {
  "kaggle": {
   "accelerator": "none",
   "dataSources": [
    {
     "datasetId": 128,
     "sourceId": 270,
     "sourceType": "datasetVersion"
    }
   ],
   "dockerImageVersionId": 30839,
   "isGpuEnabled": false,
   "isInternetEnabled": true,
   "language": "python",
   "sourceType": "notebook"
  },
  "kernelspec": {
   "display_name": "Python 3",
   "language": "python",
   "name": "python3"
  },
  "language_info": {
   "codemirror_mode": {
    "name": "ipython",
    "version": 3
   },
   "file_extension": ".py",
   "mimetype": "text/x-python",
   "name": "python",
   "nbconvert_exporter": "python",
   "pygments_lexer": "ipython3",
   "version": "3.10.12"
  },
  "papermill": {
   "default_parameters": {},
   "duration": 13.429113,
   "end_time": "2025-02-01T14:51:07.615456",
   "environment_variables": {},
   "exception": null,
   "input_path": "__notebook__.ipynb",
   "output_path": "__notebook__.ipynb",
   "parameters": {},
   "start_time": "2025-02-01T14:50:54.186343",
   "version": "2.6.0"
  }
 },
 "nbformat": 4,
 "nbformat_minor": 5
}
